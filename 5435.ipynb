{
 "cells": [
  {
   "cell_type": "code",
   "execution_count": 16,
   "id": "e4e67ee8",
   "metadata": {},
   "outputs": [],
   "source": [
    "products=[\"t-shirt\",\"mug\",\"hat\",\"book\",\"keychain\"] \n",
    "def initialize_inventory():\n",
    "    inventory={} \n",
    "    for x in products: \n",
    "        print(x) \n",
    "        y=int(input(\"How many units do we have? \")) \n",
    "        inventory[x]=y \n",
    "    return inventory"
   ]
  },
  {
   "cell_type": "code",
   "execution_count": 17,
   "id": "0842e41e",
   "metadata": {},
   "outputs": [],
   "source": [
    "def get_customer_orders(): \n",
    "    customer_orders={}\n",
    "    for x in products:\n",
    "        print(x)\n",
    "        w=int(input(\"How many units do we order? \")) \n",
    "        customer_orders[x]=w \n",
    "    return customer_orders"
   ]
  },
  {
   "cell_type": "code",
   "execution_count": 19,
   "id": "f9465d3f",
   "metadata": {},
   "outputs": [
    {
     "name": "stdout",
     "output_type": "stream",
     "text": [
      "t-shirt\n",
      "How many units do we have? 100\n",
      "mug\n",
      "How many units do we have? 90\n",
      "hat\n",
      "How many units do we have? 80\n",
      "book\n",
      "How many units do we have? 70\n",
      "keychain\n",
      "How many units do we have? 60\n",
      "{'t-shirt': 100, 'mug': 90, 'hat': 80, 'book': 70, 'keychain': 60}\n",
      "t-shirt\n",
      "How many units do we order? 10\n",
      "mug\n",
      "How many units do we order? 20\n",
      "hat\n",
      "How many units do we order? 30\n",
      "book\n",
      "How many units do we order? 40\n",
      "keychain\n",
      "How many units do we order? 50\n",
      "{'t-shirt': 10, 'mug': 20, 'hat': 30, 'book': 40, 'keychain': 50}\n"
     ]
    }
   ],
   "source": [
    "inventoryyy=initialize_inventory()\n",
    "print(inventoryyy)\n",
    "ordersss=get_customer_orders()\n",
    "print(ordersss)"
   ]
  },
  {
   "cell_type": "code",
   "execution_count": 34,
   "id": "7ea4eec9",
   "metadata": {},
   "outputs": [
    {
     "name": "stdout",
     "output_type": "stream",
     "text": [
      "Final Stock Counter({'t-shirt': 90, 'mug': 70, 'hat': 50, 'book': 30, 'keychain': 10})\n"
     ]
    }
   ],
   "source": [
    "from collections import Counter \n",
    "ini_dictionary1 = Counter(inventoryyy) \n",
    "ini_dictionary2 = Counter(ordersss)  \n",
    "final_dictionary = ini_dictionary1 - ini_dictionary2  \n",
    "print (\"Final Stock\", str(final_dictionary))"
   ]
  },
  {
   "cell_type": "code",
   "execution_count": 68,
   "id": "39035fe7",
   "metadata": {},
   "outputs": [],
   "source": [
    "def calculate_order_stadistics():\n",
    "    dew=sum(final_dictionary.values())\n",
    "    wed=sum(inventoryyy.values())\n",
    "    je=dew/wed*100\n",
    "    ej=str(je)\n",
    "    eje=ej+\"%\"\n",
    "    print(\"The percentage left is: \",eje,\"and we still have: \", dew, \"units\")"
   ]
  },
  {
   "cell_type": "code",
   "execution_count": 69,
   "id": "21973c5a",
   "metadata": {},
   "outputs": [
    {
     "name": "stdout",
     "output_type": "stream",
     "text": [
      "The percentage left is:  62.5% and we still have:  250 units\n"
     ]
    }
   ],
   "source": [
    "calculate_order_stadistics()"
   ]
  },
  {
   "cell_type": "code",
   "execution_count": 53,
   "id": "f46120a2",
   "metadata": {},
   "outputs": [],
   "source": [
    "def print_order_statistic():\n",
    "    return ordersss"
   ]
  },
  {
   "cell_type": "code",
   "execution_count": 60,
   "id": "1a1dc547",
   "metadata": {},
   "outputs": [
    {
     "data": {
      "text/plain": [
       "{'t-shirt': 10, 'mug': 20, 'hat': 30, 'book': 40, 'keychain': 50}"
      ]
     },
     "execution_count": 60,
     "metadata": {},
     "output_type": "execute_result"
    }
   ],
   "source": [
    "print_order_statistic()"
   ]
  },
  {
   "cell_type": "code",
   "execution_count": 55,
   "id": "601f7f57",
   "metadata": {},
   "outputs": [],
   "source": [
    "def print_inventory_statistic():\n",
    "    return inventoryyy"
   ]
  },
  {
   "cell_type": "code",
   "execution_count": 62,
   "id": "aae1424c",
   "metadata": {},
   "outputs": [
    {
     "data": {
      "text/plain": [
       "{'t-shirt': 100, 'mug': 90, 'hat': 80, 'book': 70, 'keychain': 60}"
      ]
     },
     "execution_count": 62,
     "metadata": {},
     "output_type": "execute_result"
    }
   ],
   "source": [
    "print_inventory_statistic()"
   ]
  },
  {
   "cell_type": "code",
   "execution_count": 70,
   "id": "beb7c6f1",
   "metadata": {},
   "outputs": [
    {
     "name": "stdout",
     "output_type": "stream",
     "text": [
      "t-shirt\n",
      "How many units do we have? 90\n",
      "mug\n",
      "How many units do we have? 80\n",
      "hat\n",
      "How many units do we have? 70\n",
      "book\n",
      "How many units do we have? 60\n",
      "keychain\n",
      "How many units do we have? 50\n",
      "t-shirt\n",
      "How many units do we order? 10\n",
      "mug\n",
      "How many units do we order? 20\n",
      "hat\n",
      "How many units do we order? 30\n",
      "book\n",
      "How many units do we order? 40\n",
      "keychain\n",
      "How many units do we order? 50\n",
      "The percentage left is:  71.42857142857143% and we still have:  250 units\n",
      "order:  {'t-shirt': 10, 'mug': 20, 'hat': 30, 'book': 40, 'keychain': 50} final inventory:  {'t-shirt': 90, 'mug': 80, 'hat': 70, 'book': 60, 'keychain': 50}\n"
     ]
    }
   ],
   "source": [
    "inventoryyy=initialize_inventory()\n",
    "ordersss=get_customer_orders()\n",
    "calculate_order_stadistics()\n",
    "print(\"order: \",print_order_statistic(),\"final inventory: \",print_inventory_statistic())"
   ]
  },
  {
   "cell_type": "code",
   "execution_count": null,
   "id": "a4156532",
   "metadata": {},
   "outputs": [],
   "source": []
  }
 ],
 "metadata": {
  "kernelspec": {
   "display_name": "Python 3 (ipykernel)",
   "language": "python",
   "name": "python3"
  },
  "language_info": {
   "codemirror_mode": {
    "name": "ipython",
    "version": 3
   },
   "file_extension": ".py",
   "mimetype": "text/x-python",
   "name": "python",
   "nbconvert_exporter": "python",
   "pygments_lexer": "ipython3",
   "version": "3.11.7"
  }
 },
 "nbformat": 4,
 "nbformat_minor": 5
}
